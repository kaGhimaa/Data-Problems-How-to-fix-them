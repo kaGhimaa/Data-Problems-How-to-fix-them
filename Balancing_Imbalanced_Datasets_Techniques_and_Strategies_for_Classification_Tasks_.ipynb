{
  "cells": [
    {
      "cell_type": "markdown",
      "metadata": {
        "id": "view-in-github",
        "colab_type": "text"
      },
      "source": [
        "<a href=\"https://colab.research.google.com/github/kaGhimaa/Data-Problems-How-to-fix-them/blob/main/Balancing_Imbalanced_Datasets_Techniques_and_Strategies_for_Classification_Tasks_.ipynb\" target=\"_parent\"><img src=\"https://colab.research.google.com/assets/colab-badge.svg\" alt=\"Open In Colab\"/></a>"
      ]
    },
    {
      "source": [
        "# Balancing Imbalanced Datasets: Techniques and Strategies for Classification Tasks!"
      ],
      "metadata": {
        "id": "bdd8c576-0575-4632-b87f-d175e78e39da"
      },
      "id": "bdd8c576-0575-4632-b87f-d175e78e39da",
      "cell_type": "markdown"
    },
    {
      "cell_type": "code",
      "source": [
        "from google.colab import drive\n",
        "drive.mount('/content/drive')"
      ],
      "metadata": {
        "colab": {
          "base_uri": "https://localhost:8080/"
        },
        "id": "QXmR3kRx8Y1q",
        "outputId": "9ca90b29-f7c5-40a5-f799-3d6c0e390af4"
      },
      "id": "QXmR3kRx8Y1q",
      "execution_count": null,
      "outputs": [
        {
          "output_type": "stream",
          "name": "stdout",
          "text": [
            "Mounted at /content/drive\n"
          ]
        }
      ]
    },
    {
      "source": [
        "## What is imbalanced data"
      ],
      "metadata": {
        "id": "5a87a8db-aa3f-4b49-9925-014c0b797a8f"
      },
      "id": "5a87a8db-aa3f-4b49-9925-014c0b797a8f",
      "cell_type": "markdown"
    },
    {
      "source": [
        "A classification data set with **skewed class proportions** is called **imbalanced**. Classes that make up a large proportion of the data set are called **majority** classes. Those that make up a smaller proportion are **minority** classes.\n",
        "\n",
        "### Example\n",
        "<img src=\"https://drive.google.com/uc?id=1RAy6Ld41l_VPbPmsi5x2aWciBGT8T68E\">"
      ],
      "metadata": {
        "id": "e0633631-cb00-49c6-b379-1c097f7e22e5"
      },
      "id": "e0633631-cb00-49c6-b379-1c097f7e22e5",
      "cell_type": "markdown"
    },
    {
      "source": [
        "## When Can Data be Considered Imbalanced? What Thresholds Define Class Distribution Disparity?"
      ],
      "metadata": {
        "id": "d02dcb33-7ec1-43a5-9c12-41bfc328f0cd"
      },
      "id": "d02dcb33-7ec1-43a5-9c12-41bfc328f0cd",
      "cell_type": "markdown"
    },
    {
      "source": [
        "This table simplifies the various degrees of imbalance found within datasets.\n",
        "\n",
        "<img src=\"https://drive.google.com/uc?id=1awba4-nAwDHy5JQpsPU1DMehTb5EUfsG\">\n",
        "\n",
        "\n"
      ],
      "metadata": {
        "id": "a06dcd3c-bb3d-4023-aa45-808afaad5397"
      },
      "id": "a06dcd3c-bb3d-4023-aa45-808afaad5397",
      "cell_type": "markdown"
    },
    {
      "source": [
        "## What Solutions Exist for Addressing Imbalanced Data?"
      ],
      "metadata": {
        "id": "123ff74f-38b2-42ac-8a54-bf400ae8a348"
      },
      "id": "123ff74f-38b2-42ac-8a54-bf400ae8a348",
      "cell_type": "markdown"
    },
    {
      "source": [
        "### Collect more data"
      ],
      "metadata": {
        "id": "5359dcba-1f96-4d12-aa1d-69363fc36eb4"
      },
      "id": "5359dcba-1f96-4d12-aa1d-69363fc36eb4",
      "cell_type": "markdown"
    },
    {
      "source": [
        "We can increase the amount  of the minority class by gathering additional data for it , but this may not always be feasible.."
      ],
      "metadata": {
        "id": "f218f7b5-ae61-4346-8638-565ab3688e5b"
      },
      "id": "f218f7b5-ae61-4346-8638-565ab3688e5b",
      "cell_type": "markdown"
    },
    {
      "source": [
        "### Resampling mathods"
      ],
      "metadata": {
        "id": "caf4a36b-48c0-44c9-a388-39e6c94d25c8"
      },
      "id": "caf4a36b-48c0-44c9-a388-39e6c94d25c8",
      "cell_type": "markdown"
    },
    {
      "source": [
        "####  Undersampling"
      ],
      "metadata": {
        "id": "352cae03-3dbf-4fa1-9be7-56fdaf2f8094"
      },
      "id": "352cae03-3dbf-4fa1-9be7-56fdaf2f8094",
      "cell_type": "markdown"
    },
    {
      "source": [
        "**Random Undersampling**\n",
        "\n",
        "\n",
        "Randomly removes instances from the majority class until the dataset is balanced. While this method achieves balance, it can lead to the loss of valuable majority class information.\n",
        "\n",
        "<img src=\"https://drive.google.com/uc?id=1TKWF7TeGo66iaIrAwCMH6Vf5A7_y-9Jk\">\n",
        "\n",
        "\n",
        "\n",
        "**Tomek links Undersampling**\n",
        "\n",
        "\n",
        "Identifies pairs of very close instances from different classes known as Tomek links. Removes majority class examples from each pair to increase class separation and move towards dataset balance. (it makes decision boundries more clear )\n",
        "\n",
        "<img src=\"https://drive.google.com/uc?id=10FbOz8zVjyrIPnstskDSsMI6Q2iEQhmT\">\n"
      ],
      "metadata": {
        "id": "4066f7de-b9e5-459d-a79a-a6c13fa0349c"
      },
      "id": "4066f7de-b9e5-459d-a79a-a6c13fa0349c",
      "cell_type": "markdown"
    },
    {
      "source": [
        "#### Oversampling"
      ],
      "metadata": {
        "id": "431e6707-e09a-41cd-ac1b-280be5ac884f"
      },
      "cell_type": "markdown",
      "id": "431e6707-e09a-41cd-ac1b-280be5ac884f"
    },
    {
      "source": [
        "\n",
        "\n",
        " We have two main types of Oversampling\n",
        "\n",
        "**Random Oversampling**\n",
        "\n",
        " Randomly duplicates instances of the minority class to create as many rows as the majority class. This approach increases the representation of the minority class in the dataset.\n",
        "\n",
        "<img src=\"https://drive.google.com/uc?id=1iQ0Gjdf1O0F4CXecXWpCipRx3VOIyfUq\">\n",
        "\n",
        "\n",
        "**Generate synthetic samples**\n",
        "\n",
        "Creates samples of the minority class based on the existing ones, using algorithms like SMOTE (Synthetic Minority Over-sampling Technique). SMOTE generates synthetic samples by interpolating between existing minority class samples (nearest neighbors approach), effectively creating new instances that are similar to, but not exact duplicates of, the original minority class instances\n",
        "\n",
        "<img src=\"https://drive.google.com/uc?id=1GrxszUDQBTSUtgl5OLaRGlOp2eHXmE1W\">\n",
        "\n"
      ],
      "metadata": {
        "id": "4b3b9a9f-80bc-4d6e-92ae-47b9bbfa7041"
      },
      "id": "4b3b9a9f-80bc-4d6e-92ae-47b9bbfa7041",
      "cell_type": "markdown"
    },
    {
      "source": [
        "### Model-Level Methods\n"
      ],
      "metadata": {
        "id": "13396b25-39a0-4ce9-818d-2f74fd9571ff"
      },
      "cell_type": "markdown",
      "id": "13396b25-39a0-4ce9-818d-2f74fd9571ff"
    },
    {
      "source": [
        "#### Class Weights\n"
      ],
      "metadata": {
        "id": "4558219a-9f4f-49cc-bb81-17ee1fb031fb"
      },
      "cell_type": "markdown",
      "id": "4558219a-9f4f-49cc-bb81-17ee1fb031fb"
    },
    {
      "source": [
        "Assigning higher weight to the minority class during training ensures that the model pays more attention to it. This helps mitigate the impact of class imbalance and improves the model's ability to correctly classify minority class instances.\n",
        "This will stop us on a question ..\n",
        "How to choose right weights to make it balances ?\n",
        "#### Techniques to choose the weights\n",
        "\n",
        "- **Manual Tuning**: Experiment with different weight values manually to find the one that improves model performance.\n",
        "- **Inverse Class Frequency**: Assign weights inversely proportional to class frequencies. For example, if Class A occurs twice as often as Class B, set the weight of B to 2 and A to 1.\n",
        "- **Grid Search**: Perform a grid search over a range of weight values to find the combination that optimizes model performance.\n",
        "- **Automated Methods**: Use automated methods provided by algorithms and libraries. For example, scikit-learn's `class_weight='balanced'` option automatically adjusts weights based on class frequencies.\n",
        "\n",
        "<img src=\"https://drive.google.com/uc?id=1DQ5GetaiXTHli58q5If63_knwzghsDMv\">\n",
        "\n",
        "\n"
      ],
      "metadata": {
        "id": "c0beec64-2754-4363-9e5a-8b0d4fc92e1b"
      },
      "cell_type": "markdown",
      "id": "c0beec64-2754-4363-9e5a-8b0d4fc92e1b"
    },
    {
      "source": [
        "#### Cost-sensitive Learning\n",
        "Penalize misclassifications of minority class samples more heavily during training."
      ],
      "metadata": {
        "id": "0ec950b2-d584-4ee0-92d6-39b97009a293"
      },
      "cell_type": "markdown",
      "id": "0ec950b2-d584-4ee0-92d6-39b97009a293"
    },
    {
      "source": [
        "#### Ensemble Methods\n",
        "Use ensemble methods such as Random Forests or Boosting algorithms which can inherently handle class imbalance."
      ],
      "metadata": {
        "id": "9a902fa1-e5a5-45c7-aa7f-fca376ef1134"
      },
      "cell_type": "markdown",
      "id": "9a902fa1-e5a5-45c7-aa7f-fca376ef1134"
    },
    {
      "source": [
        "### Use appropriate evaluation metrics"
      ],
      "metadata": {
        "id": "9156b9b2-f28d-4046-8ebe-7e4d2f33f090"
      },
      "cell_type": "markdown",
      "id": "9156b9b2-f28d-4046-8ebe-7e4d2f33f090"
    },
    {
      "source": [
        "Instead of accuracy, use evaluation metrics that are less sensitive to class imbalance, such as precision, recall, F1-score, or area under the ROC curve (AUC-ROC).\n",
        "\n",
        "here is a simple guide for what metrics we choose in which case\n",
        "\n",
        "<img src=\"https://drive.google.com/uc?id=1pFtCSiMXFERmTUmD-zO4jcFKXXgueL9o\">\n",
        "\n"
      ],
      "metadata": {
        "id": "ca08161c-8792-45c3-8fae-27295ca980aa"
      },
      "cell_type": "markdown",
      "id": "ca08161c-8792-45c3-8fae-27295ca980aa"
    },
    {
      "source": [
        "                                                          by kaGhima"
      ],
      "metadata": {
        "id": "882cc328-faab-4133-8321-1ca072c9b4da"
      },
      "cell_type": "markdown",
      "id": "882cc328-faab-4133-8321-1ca072c9b4da"
    }
  ],
  "metadata": {
    "language_info": {
      "name": "python",
      "version": "3.8.10",
      "mimetype": "text/x-python",
      "codemirror_mode": {
        "name": "ipython",
        "version": 3
      },
      "pygments_lexer": "ipython3",
      "nbconvert_exporter": "python",
      "file_extension": ".py"
    },
    "kernelspec": {
      "display_name": "Python 3 (ipykernel)",
      "language": "python",
      "name": "python3"
    },
    "editor": "DataCamp Workspace",
    "colab": {
      "provenance": [],
      "include_colab_link": true
    }
  },
  "nbformat": 4,
  "nbformat_minor": 5
}